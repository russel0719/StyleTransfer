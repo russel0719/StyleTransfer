{
 "cells": [
  {
   "cell_type": "markdown",
   "id": "c5c846c1",
   "metadata": {},
   "source": [
    "0. Package Installation"
   ]
  },
  {
   "cell_type": "code",
   "execution_count": 1,
   "id": "d5f0c022",
   "metadata": {},
   "outputs": [],
   "source": [
    "import os\n",
    "import torch\n",
    "import torch.nn as nn\n",
    "import torch.optim as optim\n",
    "import matplotlib.pyplot as plt\n",
    "\n",
    "import time"
   ]
  },
  {
   "cell_type": "code",
   "execution_count": 2,
   "id": "c22d2c52",
   "metadata": {},
   "outputs": [],
   "source": [
    "from utils.imageloader import load_images\n",
    "from utils.dataloader import load_data\n",
    "from utils.normalize import batch_normalize\n",
    "from utils.gram_matrix import gram_matrix\n",
    "from model.VGG16 import VGG16\n",
    "from model.TransformerNet import TransformerNet"
   ]
  },
  {
   "cell_type": "markdown",
   "id": "71e3d0d2",
   "metadata": {},
   "source": [
    "1. Hyperparameter Setting"
   ]
  },
  {
   "cell_type": "code",
   "execution_count": 3,
   "id": "40d4b8e0",
   "metadata": {},
   "outputs": [],
   "source": [
    "batch_size = 10\n",
    "num_epoch = 5\n",
    "learning_rate = 1e-4\n",
    "content_weight = 1e5\n",
    "style_weight = 1e10\n",
    "log_interval = 50\n",
    "ckpt_dir = './checkpoints'"
   ]
  },
  {
   "cell_type": "markdown",
   "id": "053e38ef",
   "metadata": {},
   "source": [
    "2. Style Images and Train Data Loading"
   ]
  },
  {
   "cell_type": "code",
   "execution_count": 4,
   "id": "09a580c7",
   "metadata": {},
   "outputs": [
    {
     "name": "stdout",
     "output_type": "stream",
     "text": [
      "torch.Size([100, 3, 256, 256])\n",
      "torch.Size([3, 256, 256])\n"
     ]
    }
   ],
   "source": [
    "style_data = load_images('./data/', 'summer', batch_size)\n",
    "print(style_data.shape)\n",
    "\n",
    "train_dataset, train_dataloader = load_data('./data/', batch_size)\n",
    "print(train_dataset[0][0].shape)"
   ]
  },
  {
   "cell_type": "markdown",
   "id": "18ab84e4",
   "metadata": {},
   "source": [
    "3. Style Transform with gram"
   ]
  },
  {
   "cell_type": "code",
   "execution_count": 5,
   "id": "f5b7c1e5",
   "metadata": {},
   "outputs": [],
   "source": [
    "device = torch.device('cuda:0') if torch.cuda.is_available() else torch.device('cpu')"
   ]
  },
  {
   "cell_type": "code",
   "execution_count": 6,
   "id": "9cb9175c",
   "metadata": {},
   "outputs": [
    {
     "name": "stderr",
     "output_type": "stream",
     "text": [
      "C:\\Users\\jeongmin\\anaconda3\\lib\\site-packages\\torchvision\\models\\_utils.py:208: UserWarning: The parameter 'pretrained' is deprecated since 0.13 and may be removed in the future, please use 'weights' instead.\n",
      "  warnings.warn(\n",
      "C:\\Users\\jeongmin\\anaconda3\\lib\\site-packages\\torchvision\\models\\_utils.py:223: UserWarning: Arguments other than a weight enum or `None` for 'weights' are deprecated since 0.13 and may be removed in the future. The current behavior is equivalent to passing `weights=VGG16_Weights.IMAGENET1K_V1`. You can also use `weights=VGG16_Weights.DEFAULT` to get the most up-to-date weights.\n",
      "  warnings.warn(msg)\n"
     ]
    }
   ],
   "source": [
    "transformer = TransformerNet().to(device)\n",
    "vgg = VGG16(requires_grad=False).to(device)\n",
    "\n",
    "features_style = vgg(batch_normalize(style_data.to(device)))\n",
    "gram_style = [gram_matrix(y) for y in features_style]"
   ]
  },
  {
   "cell_type": "markdown",
   "id": "caeebe31",
   "metadata": {},
   "source": [
    "4. TransformerNet training with train data"
   ]
  },
  {
   "cell_type": "code",
   "execution_count": 7,
   "id": "49b6b39c",
   "metadata": {},
   "outputs": [],
   "source": [
    "optimizer = optim.Adam(transformer.parameters(), lr=learning_rate)\n",
    "loss_function = nn.MSELoss()"
   ]
  },
  {
   "cell_type": "code",
   "execution_count": 8,
   "id": "929fa48d",
   "metadata": {},
   "outputs": [],
   "source": [
    "def train():\n",
    "    for epoch in range(num_epoch):\n",
    "        transformer.train()\n",
    "        agg_content_loss = 0.\n",
    "        agg_style_loss = 0.\n",
    "        count = 0\n",
    "\n",
    "        for batch_id, (x, _) in enumerate(train_dataloader):\n",
    "            n_batch = len(x)\n",
    "            count += n_batch\n",
    "            optimizer.zero_grad()\n",
    "\n",
    "            x = x.to(device)\n",
    "            y = transformer(x)\n",
    "\n",
    "            y = batch_normalize(y)\n",
    "            x = batch_normalize(x)\n",
    "\n",
    "            features_y = vgg(y)\n",
    "            features_x = vgg(x)\n",
    "\n",
    "            content_loss = content_weight * loss_function(features_y.relu2_2, features_x.relu2_2)\n",
    "\n",
    "            style_loss = 0.\n",
    "            for ft_y, gm_s in zip(features_y, gram_style):\n",
    "                gm_y = gram_matrix(ft_y)\n",
    "                style_loss += loss_function(gm_y, gm_s[:n_batch, :, :])\n",
    "            style_loss *= style_weight\n",
    "\n",
    "            total_loss = content_loss + style_loss\n",
    "            total_loss.backward()\n",
    "            optimizer.step()\n",
    "\n",
    "            agg_content_loss += content_loss.item()\n",
    "            agg_style_loss += style_loss.item()\n",
    "\n",
    "            if (batch_id + 1) % log_interval == 0:\n",
    "                msg = \"{}\\tEpoch {}:\\t[{}/{}]\\tcontent: {:.6f}\\tstyle: {:.6f}\\ttotal: {:.6f}\".format(\n",
    "                    time.ctime(), epoch + 1, count, len(train_dataset),\n",
    "                    agg_content_loss / (batch_id + 1),\n",
    "                    agg_style_loss / (batch_id + 1),\n",
    "                    (agg_content_loss + agg_style_loss) / (batch_id + 1)\n",
    "                )\n",
    "                print(msg)\n",
    "                \n",
    "        # 4.1 Save Model\n",
    "        transformer.eval().cpu()\n",
    "        ckpt_model_filename = \"ckpt_epoch_\" + str(epoch) + \"_batch_id_\" + str(batch_id + 1) + \".pth\"\n",
    "        print(str(epoch), \"th checkpoint is saved!\")\n",
    "        ckpt_model_path = os.path.join(ckpt_dir, ckpt_model_filename)\n",
    "        torch.save({\n",
    "            'epoch': epoch,\n",
    "            'model_state_dict': transformer.state_dict(),\n",
    "            'optimizer_state_dict': optimizer.state_dict(),\n",
    "            'loss': total_loss\n",
    "        }, ckpt_model_path)\n",
    "\n",
    "        transformer.to(device).train()"
   ]
  },
  {
   "cell_type": "code",
   "execution_count": 9,
   "id": "420656f8",
   "metadata": {},
   "outputs": [
    {
     "name": "stdout",
     "output_type": "stream",
     "text": [
      "Fri Dec  2 19:21:31 2022\tEpoch 1:\t[500/2793]\tcontent: 632744.739375\tstyle: 5391781.840000\ttotal: 6024526.579375\n",
      "Fri Dec  2 19:22:19 2022\tEpoch 1:\t[1000/2793]\tcontent: 639149.101562\tstyle: 5059366.335000\ttotal: 5698515.436562\n",
      "Fri Dec  2 19:23:07 2022\tEpoch 1:\t[1500/2793]\tcontent: 649858.648958\tstyle: 4785013.368333\ttotal: 5434872.017292\n",
      "Fri Dec  2 19:23:55 2022\tEpoch 1:\t[2000/2793]\tcontent: 654773.149844\tstyle: 4577643.715000\ttotal: 5232416.864844\n",
      "Fri Dec  2 19:24:43 2022\tEpoch 1:\t[2500/2793]\tcontent: 663434.472375\tstyle: 4396012.344000\ttotal: 5059446.816375\n",
      "0 th checkpoint is saved!\n",
      "Fri Dec  2 19:25:57 2022\tEpoch 2:\t[500/2793]\tcontent: 694711.118750\tstyle: 3370244.495000\ttotal: 4064955.613750\n",
      "Fri Dec  2 19:26:43 2022\tEpoch 2:\t[1000/2793]\tcontent: 690293.465000\tstyle: 3302690.722500\ttotal: 3992984.187500\n",
      "Fri Dec  2 19:27:28 2022\tEpoch 2:\t[1500/2793]\tcontent: 687804.455417\tstyle: 3240988.913333\ttotal: 3928793.368750\n",
      "Fri Dec  2 19:28:14 2022\tEpoch 2:\t[2000/2793]\tcontent: 683488.900937\tstyle: 3179045.653750\ttotal: 3862534.554688\n",
      "Fri Dec  2 19:29:00 2022\tEpoch 2:\t[2500/2793]\tcontent: 682897.176500\tstyle: 3124330.587000\ttotal: 3807227.763500\n",
      "1 th checkpoint is saved!\n",
      "Fri Dec  2 19:30:14 2022\tEpoch 3:\t[500/2793]\tcontent: 665581.691250\tstyle: 2761903.560000\ttotal: 3427485.251250\n",
      "Fri Dec  2 19:31:00 2022\tEpoch 3:\t[1000/2793]\tcontent: 658703.976875\tstyle: 2723135.820000\ttotal: 3381839.796875\n",
      "Fri Dec  2 19:31:47 2022\tEpoch 3:\t[1500/2793]\tcontent: 654738.513333\tstyle: 2684342.048333\ttotal: 3339080.561667\n",
      "Fri Dec  2 19:32:32 2022\tEpoch 3:\t[2000/2793]\tcontent: 649846.991875\tstyle: 2643237.306250\ttotal: 3293084.298125\n",
      "Fri Dec  2 19:33:19 2022\tEpoch 3:\t[2500/2793]\tcontent: 648863.503250\tstyle: 2605240.805000\ttotal: 3254104.308250\n",
      "2 th checkpoint is saved!\n",
      "Fri Dec  2 19:34:33 2022\tEpoch 4:\t[500/2793]\tcontent: 629318.018750\tstyle: 2336133.680000\ttotal: 2965451.698750\n",
      "Fri Dec  2 19:35:20 2022\tEpoch 4:\t[1000/2793]\tcontent: 623907.626563\tstyle: 2305408.897500\ttotal: 2929316.524062\n",
      "Fri Dec  2 19:36:06 2022\tEpoch 4:\t[1500/2793]\tcontent: 620855.451042\tstyle: 2276877.490000\ttotal: 2897732.941042\n",
      "Fri Dec  2 19:36:52 2022\tEpoch 4:\t[2000/2793]\tcontent: 615413.224063\tstyle: 2247522.526250\ttotal: 2862935.750313\n",
      "Fri Dec  2 19:37:38 2022\tEpoch 4:\t[2500/2793]\tcontent: 614326.668000\tstyle: 2218412.061500\ttotal: 2832738.729500\n",
      "3 th checkpoint is saved!\n",
      "Fri Dec  2 19:38:51 2022\tEpoch 5:\t[500/2793]\tcontent: 599379.130625\tstyle: 2022664.695000\ttotal: 2622043.825625\n",
      "Fri Dec  2 19:39:36 2022\tEpoch 5:\t[1000/2793]\tcontent: 594614.912188\tstyle: 2004688.726250\ttotal: 2599303.638438\n",
      "Fri Dec  2 19:40:22 2022\tEpoch 5:\t[1500/2793]\tcontent: 591374.750625\tstyle: 1988887.307500\ttotal: 2580262.058125\n",
      "Fri Dec  2 19:41:08 2022\tEpoch 5:\t[2000/2793]\tcontent: 586755.910000\tstyle: 1970608.398750\ttotal: 2557364.308750\n",
      "Fri Dec  2 19:41:54 2022\tEpoch 5:\t[2500/2793]\tcontent: 585928.614750\tstyle: 1952189.449500\ttotal: 2538118.064250\n",
      "4 th checkpoint is saved!\n"
     ]
    }
   ],
   "source": [
    "train()"
   ]
  },
  {
   "cell_type": "markdown",
   "id": "c3f5e5d1",
   "metadata": {},
   "source": [
    "5. Test"
   ]
  }
 ],
 "metadata": {
  "kernelspec": {
   "display_name": "Python 3 (ipykernel)",
   "language": "python",
   "name": "python3"
  },
  "language_info": {
   "codemirror_mode": {
    "name": "ipython",
    "version": 3
   },
   "file_extension": ".py",
   "mimetype": "text/x-python",
   "name": "python",
   "nbconvert_exporter": "python",
   "pygments_lexer": "ipython3",
   "version": "3.9.13"
  }
 },
 "nbformat": 4,
 "nbformat_minor": 5
}
