{
 "cells": [
  {
   "cell_type": "markdown",
   "id": "c5c846c1",
   "metadata": {},
   "source": [
    "0. Package Installation"
   ]
  },
  {
   "cell_type": "code",
   "execution_count": 1,
   "id": "d5f0c022",
   "metadata": {},
   "outputs": [],
   "source": [
    "import os\n",
    "import torch\n",
    "import torch.nn as nn\n",
    "import torch.optim as optim\n",
    "import matplotlib.pyplot as plt"
   ]
  },
  {
   "cell_type": "code",
   "execution_count": 2,
   "id": "c22d2c52",
   "metadata": {},
   "outputs": [],
   "source": [
    "from utils.imageloader import load_images\n",
    "from utils.dataloader import load_data\n",
    "from utils.normalize import batch_normalize\n",
    "from utils.gram_matrix import gram_matrix\n",
    "from model.VGG16 import VGG16\n",
    "from model.TransformerNet import TransformerNet"
   ]
  },
  {
   "cell_type": "markdown",
   "id": "71e3d0d2",
   "metadata": {},
   "source": [
    "1. Hyperparameter Setting"
   ]
  },
  {
   "cell_type": "code",
   "execution_count": 3,
   "id": "40d4b8e0",
   "metadata": {},
   "outputs": [],
   "source": [
    "batch_size = 10\n",
    "num_epoch = 10\n",
    "learning_rate = 1e-4"
   ]
  },
  {
   "cell_type": "markdown",
   "id": "053e38ef",
   "metadata": {},
   "source": [
    "2. Style Images and Train Data Loading"
   ]
  },
  {
   "cell_type": "code",
   "execution_count": 4,
   "id": "09a580c7",
   "metadata": {},
   "outputs": [
    {
     "name": "stdout",
     "output_type": "stream",
     "text": [
      "torch.Size([100, 3, 256, 256])\n",
      "torch.Size([3, 256, 256])\n"
     ]
    }
   ],
   "source": [
    "style_data = load_images('./data/', 'summer', batch_size)\n",
    "print(style_data.shape)\n",
    "\n",
    "train_dataset, train_dataloader = load_data('./data/', batch_size)\n",
    "print(train_dataset[0][0].shape)"
   ]
  },
  {
   "cell_type": "markdown",
   "id": "18ab84e4",
   "metadata": {},
   "source": [
    "3. Style Transform with gram"
   ]
  },
  {
   "cell_type": "code",
   "execution_count": 5,
   "id": "9cb9175c",
   "metadata": {},
   "outputs": [],
   "source": [
    "transformer = TransformerNet()\n",
    "vgg = VGG16(requires_grad=False)\n",
    "\n",
    "features_style = vgg(batch_normalize(style_data))\n",
    "gram_style = [gram_matrix(y) for y in features_style]"
   ]
  },
  {
   "cell_type": "markdown",
   "id": "caeebe31",
   "metadata": {},
   "source": [
    "4. TransformerNet training with train data"
   ]
  },
  {
   "cell_type": "code",
   "execution_count": 6,
   "id": "49b6b39c",
   "metadata": {},
   "outputs": [],
   "source": [
    "optimizer = optim.Adam(transformer.parameters(), lr=learning_rate)\n",
    "loss_function = nn.MSELoss()"
   ]
  },
  {
   "cell_type": "code",
   "execution_count": 7,
   "id": "929fa48d",
   "metadata": {},
   "outputs": [],
   "source": [
    "def train(model, train_data):\n",
    "    for epoch in range(num_epoch):\n",
    "        model.train()\n",
    "        agg_content_loss = 0.\n",
    "        agg_style_loss = 0.\n",
    "        count = 0\n",
    "\n",
    "        for batch_id, (x, _) in enumerate(train_loader):\n",
    "            n_batch = len(x)\n",
    "            count += n_batch\n",
    "            optimizer.zero_grad()\n",
    "\n",
    "            x = x.to(device)\n",
    "            y = transformer(x)\n",
    "\n",
    "            y = normalize_batch(y)\n",
    "            x = normalize_batch(x)\n",
    "\n",
    "            features_y = vgg(y)\n",
    "            features_x = vgg(x)\n",
    "\n",
    "            content_loss = content_weight * loss_function(features_y.relu2_2, features_x.relu2_2)\n",
    "\n",
    "            style_loss = 0.\n",
    "            for ft_y, gm_s in zip(features_y, gram_style):\n",
    "                gm_y = gram_matrix(ft_y)\n",
    "                style_loss += loss_function(gm_y, gm_s[:n_batch, :, :])\n",
    "            style_loss *= style_weight\n",
    "\n",
    "            total_loss = content_loss + style_loss\n",
    "            total_loss.backward()\n",
    "            optimizer.step()\n",
    "\n",
    "            agg_content_loss += content_loss.item()\n",
    "            agg_style_loss += style_loss.item()\n",
    "\n",
    "            if (batch_id + 1) % log_interval == 0:\n",
    "                msg = \"{}\\tEpoch {}:\\t[{}/{}]\\tcontent: {:.6f}\\tstyle: {:.6f}\\ttotal: {:.6f}\".format(\n",
    "                    time.ctime(), epoch + 1, count, len(train_dataset),\n",
    "                    agg_content_loss / (batch_id + 1),\n",
    "                    agg_style_loss / (batch_id + 1),\n",
    "                    (agg_content_loss + agg_style_loss) / (batch_id + 1)\n",
    "                )\n",
    "                print(msg)"
   ]
  },
  {
   "cell_type": "markdown",
   "id": "c3f5e5d1",
   "metadata": {},
   "source": [
    "5. Test"
   ]
  }
 ],
 "metadata": {
  "kernelspec": {
   "display_name": "Python 3 (ipykernel)",
   "language": "python",
   "name": "python3"
  },
  "language_info": {
   "codemirror_mode": {
    "name": "ipython",
    "version": 3
   },
   "file_extension": ".py",
   "mimetype": "text/x-python",
   "name": "python",
   "nbconvert_exporter": "python",
   "pygments_lexer": "ipython3",
   "version": "3.9.15"
  }
 },
 "nbformat": 4,
 "nbformat_minor": 5
}
